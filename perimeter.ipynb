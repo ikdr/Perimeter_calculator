{
  "nbformat": 4,
  "nbformat_minor": 0,
  "metadata": {
    "colab": {
      "provenance": [],
      "authorship_tag": "ABX9TyPe2Dj7LHFpg4k2sZLNbesF",
      "include_colab_link": true
    },
    "kernelspec": {
      "name": "python3",
      "display_name": "Python 3"
    },
    "language_info": {
      "name": "python"
    }
  },
  "cells": [
    {
      "cell_type": "markdown",
      "metadata": {
        "id": "view-in-github",
        "colab_type": "text"
      },
      "source": [
        "<a href=\"https://colab.research.google.com/github/ikdr/Perimeter_calculator/blob/main/perimeter.ipynb\" target=\"_parent\"><img src=\"https://colab.research.google.com/assets/colab-badge.svg\" alt=\"Open In Colab\"/></a>"
      ]
    },
    {
      "cell_type": "code",
      "source": [
        "!pip install svgelements\n",
        "!pip install cairosvg"
      ],
      "metadata": {
        "colab": {
          "base_uri": "https://localhost:8080/"
        },
        "id": "MyQ_dJP-coCM",
        "outputId": "393b04d3-de46-457f-9bd2-8de311c14ed3"
      },
      "execution_count": 5,
      "outputs": [
        {
          "output_type": "stream",
          "name": "stdout",
          "text": [
            "Requirement already satisfied: svgelements in /usr/local/lib/python3.11/dist-packages (1.9.6)\n",
            "Collecting cairosvg\n",
            "  Downloading cairosvg-2.8.2-py3-none-any.whl.metadata (2.7 kB)\n",
            "Collecting cairocffi (from cairosvg)\n",
            "  Downloading cairocffi-1.7.1-py3-none-any.whl.metadata (3.3 kB)\n",
            "Collecting cssselect2 (from cairosvg)\n",
            "  Downloading cssselect2-0.8.0-py3-none-any.whl.metadata (2.9 kB)\n",
            "Requirement already satisfied: defusedxml in /usr/local/lib/python3.11/dist-packages (from cairosvg) (0.7.1)\n",
            "Requirement already satisfied: pillow in /usr/local/lib/python3.11/dist-packages (from cairosvg) (11.2.1)\n",
            "Requirement already satisfied: tinycss2 in /usr/local/lib/python3.11/dist-packages (from cairosvg) (1.4.0)\n",
            "Requirement already satisfied: cffi>=1.1.0 in /usr/local/lib/python3.11/dist-packages (from cairocffi->cairosvg) (1.17.1)\n",
            "Requirement already satisfied: webencodings in /usr/local/lib/python3.11/dist-packages (from cssselect2->cairosvg) (0.5.1)\n",
            "Requirement already satisfied: pycparser in /usr/local/lib/python3.11/dist-packages (from cffi>=1.1.0->cairocffi->cairosvg) (2.22)\n",
            "Downloading cairosvg-2.8.2-py3-none-any.whl (45 kB)\n",
            "\u001b[2K   \u001b[90m━━━━━━━━━━━━━━━━━━━━━━━━━━━━━━━━━━━━━━━━\u001b[0m \u001b[32m45.8/45.8 kB\u001b[0m \u001b[31m2.7 MB/s\u001b[0m eta \u001b[36m0:00:00\u001b[0m\n",
            "\u001b[?25hDownloading cairocffi-1.7.1-py3-none-any.whl (75 kB)\n",
            "\u001b[2K   \u001b[90m━━━━━━━━━━━━━━━━━━━━━━━━━━━━━━━━━━━━━━━━\u001b[0m \u001b[32m75.6/75.6 kB\u001b[0m \u001b[31m4.5 MB/s\u001b[0m eta \u001b[36m0:00:00\u001b[0m\n",
            "\u001b[?25hDownloading cssselect2-0.8.0-py3-none-any.whl (15 kB)\n",
            "Installing collected packages: cssselect2, cairocffi, cairosvg\n",
            "Successfully installed cairocffi-1.7.1 cairosvg-2.8.2 cssselect2-0.8.0\n"
          ]
        }
      ]
    },
    {
      "cell_type": "code",
      "source": [
        "import tkinter as tk\n",
        "from tkinter import filedialog\n",
        "import os\n",
        "from svgelements import *\n",
        "import cairosvg\n"
      ],
      "metadata": {
        "id": "JjMvyafFdYPh"
      },
      "execution_count": null,
      "outputs": []
    },
    {
      "cell_type": "code",
      "source": [
        "# --- DEFINE FILE PATHS ---\n",
        "\n",
        "# The path to your uploaded file in Colab\n",
        "input_svg_file = \"/content/MARITIME_test floor plan - Text.svg\"\n",
        "\n",
        "# Define the names for your output files\n",
        "base_name = os.path.splitext(os.path.basename(input_svg_file))[0]\n",
        "output_svg_file = f\"/content/{base_name}_outline.svg\"\n",
        "output_png_file = f\"/content/{base_name}_outline.png\""
      ],
      "metadata": {
        "id": "NoPPFHiIhMj0"
      },
      "execution_count": 11,
      "outputs": []
    },
    {
      "cell_type": "code",
      "source": [
        "import os\n",
        "import cairosvg\n",
        "from svgelements import *\n",
        "\n",
        "def extract_perimeter(svg_input_path):\n",
        "    \"\"\"\n",
        "    Reads an SVG, extracts its \"perimeter\", saves the result as a new SVG,\n",
        "    and converts that new SVG to a PNG file.\n",
        "    \"\"\"\n",
        "    # --- 1. Validate Input ---\n",
        "    if not os.path.exists(svg_input_path):\n",
        "        print(f\"ERROR: The input file was not found at: {svg_input_path}\")\n",
        "        print(\"Please make sure the file is uploaded and the path is correct.\")\n",
        "        return\n",
        "\n",
        "    print(f\"Processing input file: {svg_input_path}\")\n",
        "\n",
        "    # --- 2. SVG Processing Logic ---\n",
        "    try:\n",
        "        # Parse the original SVG file\n",
        "        svg_object = SVG.parse(svg_input_path)\n",
        "\n",
        "        # Find all <path> elements in the SVG\n",
        "        paths = list(svg_object.elements(lambda e: isinstance(e, Path)))\n",
        "\n",
        "        if not paths:\n",
        "            print(\"Error: No <path> elements found in the SVG file.\")\n",
        "            return\n",
        "\n",
        "        print(f\"Found {len(paths)} path(s) in the original SVG.\")\n",
        "\n",
        "        # ======================================================================\n",
        "        # !! IMPORTANT !!\n",
        "        # This is placeholder logic. It assumes the first path is the perimeter.\n",
        "        # You will need to replace this with your specific logic for\n",
        "        # identifying which path or combination of paths forms the floor plan's\n",
        "        # outer boundary.\n",
        "        # ======================================================================\n",
        "        longest_path = find_perimeter_by_length(svg_object)\n",
        "        perimeter_path = longest_path if longest_path else paths[0]\n",
        "        print(\"Using the first path found as the perimeter (placeholder logic).\")\n",
        "\n",
        "        # Create a new, clean SVG object that matches the original's dimensions\n",
        "        new_svg = SVG(width=svg_object.width, height=svg_object.height)\n",
        "\n",
        "        # Style the perimeter path to look like an outline\n",
        "        perimeter_path.fill = \"none\"\n",
        "        perimeter_path.stroke = \"black\"\n",
        "        perimeter_path.stroke_width = \"2px\" # Use a string for SVG units\n",
        "\n",
        "        # Add the modified perimeter path to our new SVG\n",
        "        new_svg.append(perimeter_path)\n",
        "\n",
        "    except Exception as e:\n",
        "        print(f\"An error occurred during SVG processing: {e}\")\n",
        "        return new_svg\n"
      ],
      "metadata": {
        "id": "0zEO69d-cJX4"
      },
      "execution_count": 22,
      "outputs": []
    },
    {
      "cell_type": "code",
      "source": [
        "def find_perimeter_by_length(svg_object):\n",
        "    \"\"\"Finds the path with the greatest length.\"\"\"\n",
        "    paths = list(svg_object.elements(lambda e: isinstance(e, Path)))\n",
        "    print (paths)\n",
        "    if not paths:\n",
        "        return None\n",
        "\n",
        "    longest_path = None\n",
        "    max_length = -1\n",
        "\n",
        "    for path in paths:\n",
        "        # .length() is a powerful method in svgelements\n",
        "        length = path.length()\n",
        "        if length > max_length:\n",
        "            max_length = length\n",
        "            longest_path = path\n",
        "    print (longest_path)\n",
        "    return longest_path"
      ],
      "metadata": {
        "id": "eDbbniSGiRR6"
      },
      "execution_count": 27,
      "outputs": []
    },
    {
      "cell_type": "code",
      "source": [
        " # --- 3. Save New SVG and Convert to PNG ---\n",
        "def save_and_convert(new_svg, svg_output_path, png_output_path):\n",
        "    try:\n",
        "        # Save the new SVG containing only the perimeter\n",
        "        with open(svg_output_path, \"w\", encoding=\"utf-8\") as f:\n",
        "            f.write(new_svg.tostring())\n",
        "        print(f\"✅ Clean SVG perimeter saved to: {svg_output_path}\")\n",
        "\n",
        "        # Convert the newly created SVG to a PNG image\n",
        "        cairosvg.svg2png(url=svg_output_path, write_to=png_output_path)\n",
        "        print(f\"✅ PNG image of perimeter saved to: {png_output_path}\")\n",
        "\n",
        "    except Exception as e:\n",
        "        print(f\"An error occurred during file saving or PNG conversion: {e}\")"
      ],
      "metadata": {
        "id": "gTgj-DA8jKJB"
      },
      "execution_count": 18,
      "outputs": []
    },
    {
      "cell_type": "code",
      "source": [
        "# Execute the main function\n",
        "new_svg = extract_perimeter(svg_input_path=input_svg_file)\n",
        "save_and_convert(new_svg, svg_output_path=output_svg_file, png_output_path=output_png_file)\n",
        "\n",
        "print(\"\\n--- Process Complete ---\")"
      ],
      "metadata": {
        "colab": {
          "base_uri": "https://localhost:8080/"
        },
        "id": "H83r66_jiXmF",
        "outputId": "0fcf9982-e0ce-43d7-d422-b1c5d0672f97"
      },
      "execution_count": 28,
      "outputs": [
        {
          "output_type": "stream",
          "name": "stdout",
          "text": [
            "Processing input file: /content/LIV MARITIME_test floor plan - Text.svg\n",
            "Found 2 path(s) in the original SVG.\n",
            "[Path(Move(end=Point(2347.093274656,944.88133)), Line(start=Point(2347.093274656,944.88133), end=Point(2872.4479281888,944.88133)), Line(start=Point(2872.4479281888,944.88133), end=Point(2872.4479281888,0.001353622)), Line(start=Point(2872.4479281888,0.001353622), end=Point(2347.093274656,0.001353622)), Close(start=Point(2347.093274656,0.001353622), end=Point(2347.093274656,944.88133)), fill='#fcf9f6', stroke_width=1.3333333, id='path1'), Path(Move(end=Point(910.866643895,944.88133)), Line(start=Point(910.866643895,944.88133), end=Point(1436.2212974278,944.88133)), Line(start=Point(1436.2212974278,944.88133), end=Point(1436.2212974278,0.001353622)), Line(start=Point(1436.2212974278,0.001353622), end=Point(910.866643895,0.001353622)), Close(start=Point(910.866643895,0.001353622), end=Point(910.866643895,944.88133)), fill='#fcf9f6', stroke_width=1.3333333, id='path576')]\n",
            "m 910.866643895,944.88133 l 525.354653533,0 L 1436.22129743,0.00135362200001 L 910.866643895,0.00135362200001 Z\n",
            "Using the first path found as the perimeter (placeholder logic).\n",
            "An error occurred during file saving or PNG conversion: 'NoneType' object has no attribute 'tostring'\n",
            "\n",
            "--- Process Complete ---\n"
          ]
        }
      ]
    }
  ]
}